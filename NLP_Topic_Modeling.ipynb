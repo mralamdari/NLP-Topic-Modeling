{
  "nbformat": 4,
  "nbformat_minor": 0,
  "metadata": {
    "colab": {
      "name": "NLP-Topic-Modeling.ipynb",
      "provenance": [],
      "collapsed_sections": [],
      "authorship_tag": "ABX9TyPto36DfZ1ybOQ3Av1TShWY",
      "include_colab_link": true
    },
    "kernelspec": {
      "name": "python3",
      "display_name": "Python 3"
    },
    "language_info": {
      "name": "python"
    }
  },
  "cells": [
    {
      "cell_type": "markdown",
      "metadata": {
        "id": "view-in-github",
        "colab_type": "text"
      },
      "source": [
        "<a href=\"https://colab.research.google.com/github/mr-alamdari/NLP-Topic-Modeling/blob/main/NLP_Topic_Modeling.ipynb\" target=\"_parent\"><img src=\"https://colab.research.google.com/assets/colab-badge.svg\" alt=\"Open In Colab\"/></a>"
      ]
    },
    {
      "cell_type": "code",
      "execution_count": 24,
      "metadata": {
        "id": "jAe_jqfv-8a6"
      },
      "outputs": [],
      "source": [
        "import nltk\n",
        "import pandas as pd\n",
        "from sklearn import feature_extraction, decomposition"
      ]
    },
    {
      "cell_type": "code",
      "source": [
        "!wget https://raw.githubusercontent.com/mr-alamdari/NLP-Topic-Modeling/main/npr.zip"
      ],
      "metadata": {
        "colab": {
          "base_uri": "https://localhost:8080/"
        },
        "id": "vsPbw39CFxV7",
        "outputId": "20e8d3fd-b150-4252-f629-3c6f46a700c9"
      },
      "execution_count": 5,
      "outputs": [
        {
          "output_type": "stream",
          "name": "stdout",
          "text": [
            "--2022-04-30 07:49:59--  https://raw.githubusercontent.com/mr-alamdari/NLP-Topic-Modeling/main/npr.zip\n",
            "Resolving raw.githubusercontent.com (raw.githubusercontent.com)... 185.199.108.133, 185.199.109.133, 185.199.110.133, ...\n",
            "Connecting to raw.githubusercontent.com (raw.githubusercontent.com)|185.199.108.133|:443... connected.\n",
            "HTTP request sent, awaiting response... 200 OK\n",
            "Length: 20982000 (20M) [application/zip]\n",
            "Saving to: ‘npr.zip’\n",
            "\n",
            "npr.zip             100%[===================>]  20.01M  --.-KB/s    in 0.1s    \n",
            "\n",
            "2022-04-30 07:50:00 (148 MB/s) - ‘npr.zip’ saved [20982000/20982000]\n",
            "\n"
          ]
        }
      ]
    },
    {
      "cell_type": "code",
      "source": [
        "!unzip npr.zip"
      ],
      "metadata": {
        "colab": {
          "base_uri": "https://localhost:8080/"
        },
        "id": "rqznX1ElYw-y",
        "outputId": "2b07ab6c-d654-4dd1-8d6d-4fe6a01023f7"
      },
      "execution_count": 10,
      "outputs": [
        {
          "output_type": "stream",
          "name": "stdout",
          "text": [
            "Archive:  npr.zip\n",
            "  inflating: npr.csv                 \n"
          ]
        }
      ]
    },
    {
      "cell_type": "code",
      "source": [
        "npr = pd.read_csv('npr.csv')"
      ],
      "metadata": {
        "id": "z9nZtBPgYyY5"
      },
      "execution_count": 11,
      "outputs": []
    },
    {
      "cell_type": "code",
      "source": [
        "npr.tail()"
      ],
      "metadata": {
        "colab": {
          "base_uri": "https://localhost:8080/",
          "height": 206
        },
        "id": "mcYhdUM3YyWL",
        "outputId": "d12e9aa9-a369-41ab-bf9b-931dbcca794a"
      },
      "execution_count": 12,
      "outputs": [
        {
          "output_type": "execute_result",
          "data": {
            "text/plain": [
              "                                                 Article\n",
              "11987  The number of law enforcement officers shot an...\n",
              "11988    Trump is busy these days with victory tours,...\n",
              "11989  It’s always interesting for the Goats and Soda...\n",
              "11990  The election of Donald Trump was a surprise to...\n",
              "11991  Voters in the English city of Sunderland did s..."
            ],
            "text/html": [
              "\n",
              "  <div id=\"df-754224ce-3ec8-4de1-b926-234edf202a8c\">\n",
              "    <div class=\"colab-df-container\">\n",
              "      <div>\n",
              "<style scoped>\n",
              "    .dataframe tbody tr th:only-of-type {\n",
              "        vertical-align: middle;\n",
              "    }\n",
              "\n",
              "    .dataframe tbody tr th {\n",
              "        vertical-align: top;\n",
              "    }\n",
              "\n",
              "    .dataframe thead th {\n",
              "        text-align: right;\n",
              "    }\n",
              "</style>\n",
              "<table border=\"1\" class=\"dataframe\">\n",
              "  <thead>\n",
              "    <tr style=\"text-align: right;\">\n",
              "      <th></th>\n",
              "      <th>Article</th>\n",
              "    </tr>\n",
              "  </thead>\n",
              "  <tbody>\n",
              "    <tr>\n",
              "      <th>11987</th>\n",
              "      <td>The number of law enforcement officers shot an...</td>\n",
              "    </tr>\n",
              "    <tr>\n",
              "      <th>11988</th>\n",
              "      <td>Trump is busy these days with victory tours,...</td>\n",
              "    </tr>\n",
              "    <tr>\n",
              "      <th>11989</th>\n",
              "      <td>It’s always interesting for the Goats and Soda...</td>\n",
              "    </tr>\n",
              "    <tr>\n",
              "      <th>11990</th>\n",
              "      <td>The election of Donald Trump was a surprise to...</td>\n",
              "    </tr>\n",
              "    <tr>\n",
              "      <th>11991</th>\n",
              "      <td>Voters in the English city of Sunderland did s...</td>\n",
              "    </tr>\n",
              "  </tbody>\n",
              "</table>\n",
              "</div>\n",
              "      <button class=\"colab-df-convert\" onclick=\"convertToInteractive('df-754224ce-3ec8-4de1-b926-234edf202a8c')\"\n",
              "              title=\"Convert this dataframe to an interactive table.\"\n",
              "              style=\"display:none;\">\n",
              "        \n",
              "  <svg xmlns=\"http://www.w3.org/2000/svg\" height=\"24px\"viewBox=\"0 0 24 24\"\n",
              "       width=\"24px\">\n",
              "    <path d=\"M0 0h24v24H0V0z\" fill=\"none\"/>\n",
              "    <path d=\"M18.56 5.44l.94 2.06.94-2.06 2.06-.94-2.06-.94-.94-2.06-.94 2.06-2.06.94zm-11 1L8.5 8.5l.94-2.06 2.06-.94-2.06-.94L8.5 2.5l-.94 2.06-2.06.94zm10 10l.94 2.06.94-2.06 2.06-.94-2.06-.94-.94-2.06-.94 2.06-2.06.94z\"/><path d=\"M17.41 7.96l-1.37-1.37c-.4-.4-.92-.59-1.43-.59-.52 0-1.04.2-1.43.59L10.3 9.45l-7.72 7.72c-.78.78-.78 2.05 0 2.83L4 21.41c.39.39.9.59 1.41.59.51 0 1.02-.2 1.41-.59l7.78-7.78 2.81-2.81c.8-.78.8-2.07 0-2.86zM5.41 20L4 18.59l7.72-7.72 1.47 1.35L5.41 20z\"/>\n",
              "  </svg>\n",
              "      </button>\n",
              "      \n",
              "  <style>\n",
              "    .colab-df-container {\n",
              "      display:flex;\n",
              "      flex-wrap:wrap;\n",
              "      gap: 12px;\n",
              "    }\n",
              "\n",
              "    .colab-df-convert {\n",
              "      background-color: #E8F0FE;\n",
              "      border: none;\n",
              "      border-radius: 50%;\n",
              "      cursor: pointer;\n",
              "      display: none;\n",
              "      fill: #1967D2;\n",
              "      height: 32px;\n",
              "      padding: 0 0 0 0;\n",
              "      width: 32px;\n",
              "    }\n",
              "\n",
              "    .colab-df-convert:hover {\n",
              "      background-color: #E2EBFA;\n",
              "      box-shadow: 0px 1px 2px rgba(60, 64, 67, 0.3), 0px 1px 3px 1px rgba(60, 64, 67, 0.15);\n",
              "      fill: #174EA6;\n",
              "    }\n",
              "\n",
              "    [theme=dark] .colab-df-convert {\n",
              "      background-color: #3B4455;\n",
              "      fill: #D2E3FC;\n",
              "    }\n",
              "\n",
              "    [theme=dark] .colab-df-convert:hover {\n",
              "      background-color: #434B5C;\n",
              "      box-shadow: 0px 1px 3px 1px rgba(0, 0, 0, 0.15);\n",
              "      filter: drop-shadow(0px 1px 2px rgba(0, 0, 0, 0.3));\n",
              "      fill: #FFFFFF;\n",
              "    }\n",
              "  </style>\n",
              "\n",
              "      <script>\n",
              "        const buttonEl =\n",
              "          document.querySelector('#df-754224ce-3ec8-4de1-b926-234edf202a8c button.colab-df-convert');\n",
              "        buttonEl.style.display =\n",
              "          google.colab.kernel.accessAllowed ? 'block' : 'none';\n",
              "\n",
              "        async function convertToInteractive(key) {\n",
              "          const element = document.querySelector('#df-754224ce-3ec8-4de1-b926-234edf202a8c');\n",
              "          const dataTable =\n",
              "            await google.colab.kernel.invokeFunction('convertToInteractive',\n",
              "                                                     [key], {});\n",
              "          if (!dataTable) return;\n",
              "\n",
              "          const docLinkHtml = 'Like what you see? Visit the ' +\n",
              "            '<a target=\"_blank\" href=https://colab.research.google.com/notebooks/data_table.ipynb>data table notebook</a>'\n",
              "            + ' to learn more about interactive tables.';\n",
              "          element.innerHTML = '';\n",
              "          dataTable['output_type'] = 'display_data';\n",
              "          await google.colab.output.renderOutput(dataTable, element);\n",
              "          const docLink = document.createElement('div');\n",
              "          docLink.innerHTML = docLinkHtml;\n",
              "          element.appendChild(docLink);\n",
              "        }\n",
              "      </script>\n",
              "    </div>\n",
              "  </div>\n",
              "  "
            ]
          },
          "metadata": {},
          "execution_count": 12
        }
      ]
    },
    {
      "cell_type": "code",
      "source": [
        "npr.Article[34]"
      ],
      "metadata": {
        "colab": {
          "base_uri": "https://localhost:8080/",
          "height": 244
        },
        "id": "ETcSvjyjYyS_",
        "outputId": "599832f8-744e-40ce-c7fb-f093944b674d"
      },
      "execution_count": 13,
      "outputs": [
        {
          "output_type": "execute_result",
          "data": {
            "text/plain": [
              "'U. S. Supreme Court Chief Justice John Roberts praised the   work of federal district judges in his   report on the federal judiciary, avoiding any talk of politics in regards to the country’s judicial system. Incoming president Donald Trump will have more than a 100 vacancies to fill at the district and appellate court level nationwide. He’ll also be able to fill the Supreme Court seat vacated following the death of Justice Antonin Scalia. The   Congress has refused to hold a hearing on President Obama’s nominee for that empty seat. The future of those judicial vacancies was a key issue in the presidential election. Roberts’ focus, however, was on the work of lower court judges, who he called ”selfless, patriotic and brave individuals.” Congress has authorized 637 district court judgeships across the country. And the people working in those positions do so largely out of the public eye, Roberts wrote. ”You might be asking at this point why any lawyer would want a job that requires long hours, exacting skill, and intense devotion —  while promising high stress, solitary confinement, and guaranteed criticism. There are many easier and more lucrative ways for a good lawyer to earn a living. The answer lies in the rewards of public service. District judges make a difference every day, and leave a lasting legacy, by making our society more fair and just,” he wrote. The report also looked at    differences in the filings brought to the federal judiciary. The most striking difference was the number of cases in which the United States was the defendant, which increased 55 percent. Roberts wrote that the increase was due to the U. S. Supreme Court’s decision in Welch v. United States, which provided a new basis for certain prisoners convicted under the Armed Career Criminal Act to challenge their sentences. Bankruptcy petitions fell to their lowest number since 2007 and the number of defendants charged with drug and immigration crimes both showed slight decreases. Roberts wrote that the most difficult part of a judge’s job is sentencing an individual who is found guilty of a crime. He wrote: ”The judge must consider the perspectives of the prosecutor, the defendant, and the victim, and impose a penalty that, by design and necessity, will alter the direction of the defendant’s life.”'"
            ],
            "application/vnd.google.colaboratory.intrinsic+json": {
              "type": "string"
            }
          },
          "metadata": {},
          "execution_count": 13
        }
      ]
    },
    {
      "cell_type": "code",
      "source": [
        "len(npr.Article[34])"
      ],
      "metadata": {
        "colab": {
          "base_uri": "https://localhost:8080/"
        },
        "id": "83wyDUb-ZA2W",
        "outputId": "45a393d0-ee6d-494d-fde8-1bcf30eea360"
      },
      "execution_count": 14,
      "outputs": [
        {
          "output_type": "execute_result",
          "data": {
            "text/plain": [
              "2315"
            ]
          },
          "metadata": {},
          "execution_count": 14
        }
      ]
    },
    {
      "cell_type": "code",
      "source": [
        "#max_df ==> discard words that show up in more than 90% of all the sentences\n",
        "#min_df ==> discard words that show up in less than 9% of all the sentences(freq count=4)\n",
        "\n",
        "cv = feature_extraction.text.CountVectorizer(max_df=0.9, min_df=2, stop_words='english')"
      ],
      "metadata": {
        "id": "vTlc8pldZAx3"
      },
      "execution_count": 20,
      "outputs": []
    },
    {
      "cell_type": "code",
      "source": [
        "dtm = cv.fit_transform(npr.Article)"
      ],
      "metadata": {
        "id": "u_RW2GrIczdv"
      },
      "execution_count": 21,
      "outputs": []
    },
    {
      "cell_type": "code",
      "source": [
        "dtm"
      ],
      "metadata": {
        "colab": {
          "base_uri": "https://localhost:8080/"
        },
        "id": "-2Kc2razlXk0",
        "outputId": "84eb9135-00f6-4e35-83bb-83e562ea0875"
      },
      "execution_count": 22,
      "outputs": [
        {
          "output_type": "execute_result",
          "data": {
            "text/plain": [
              "<11992x54777 sparse matrix of type '<class 'numpy.int64'>'\n",
              "\twith 3033388 stored elements in Compressed Sparse Row format>"
            ]
          },
          "metadata": {},
          "execution_count": 22
        }
      ]
    },
    {
      "cell_type": "code",
      "source": [
        "dtm.shape"
      ],
      "metadata": {
        "colab": {
          "base_uri": "https://localhost:8080/"
        },
        "id": "QR5hdDHrlbSj",
        "outputId": "991ddfa7-d0e2-47bc-c626-ccfbdbf43806"
      },
      "execution_count": 23,
      "outputs": [
        {
          "output_type": "execute_result",
          "data": {
            "text/plain": [
              "(11992, 54777)"
            ]
          },
          "metadata": {},
          "execution_count": 23
        }
      ]
    },
    {
      "cell_type": "code",
      "source": [
        "LDA = decomposition.LatentDirichletAllocation(n_components=7, random_state=32)"
      ],
      "metadata": {
        "id": "mnDhzA7ElcBU"
      },
      "execution_count": 26,
      "outputs": []
    },
    {
      "cell_type": "code",
      "source": [
        "LDA.fit(dtm)"
      ],
      "metadata": {
        "colab": {
          "base_uri": "https://localhost:8080/"
        },
        "id": "6rSSN0WYlpao",
        "outputId": "fd16d292-22b5-4fb7-e1de-2256b75bf829"
      },
      "execution_count": 27,
      "outputs": [
        {
          "output_type": "execute_result",
          "data": {
            "text/plain": [
              "LatentDirichletAllocation(n_components=7, random_state=32)"
            ]
          },
          "metadata": {},
          "execution_count": 27
        }
      ]
    },
    {
      "cell_type": "code",
      "source": [
        "len(cv.get_feature_names())"
      ],
      "metadata": {
        "colab": {
          "base_uri": "https://localhost:8080/"
        },
        "id": "pzzppGZKl7h0",
        "outputId": "89f243c7-c276-41b0-8cb4-6b53d24c5998"
      },
      "execution_count": 28,
      "outputs": [
        {
          "output_type": "stream",
          "name": "stderr",
          "text": [
            "/usr/local/lib/python3.7/dist-packages/sklearn/utils/deprecation.py:87: FutureWarning: Function get_feature_names is deprecated; get_feature_names is deprecated in 1.0 and will be removed in 1.2. Please use get_feature_names_out instead.\n",
            "  warnings.warn(msg, category=FutureWarning)\n"
          ]
        },
        {
          "output_type": "execute_result",
          "data": {
            "text/plain": [
              "54777"
            ]
          },
          "metadata": {},
          "execution_count": 28
        }
      ]
    },
    {
      "cell_type": "code",
      "source": [
        "cv.get_feature_names()[5000:5020]"
      ],
      "metadata": {
        "colab": {
          "base_uri": "https://localhost:8080/"
        },
        "id": "yKw-j03jmeEy",
        "outputId": "f79e61ea-62d4-4ade-cf1e-349cfc8381e5"
      },
      "execution_count": 34,
      "outputs": [
        {
          "output_type": "stream",
          "name": "stderr",
          "text": [
            "/usr/local/lib/python3.7/dist-packages/sklearn/utils/deprecation.py:87: FutureWarning: Function get_feature_names is deprecated; get_feature_names is deprecated in 1.0 and will be removed in 1.2. Please use get_feature_names_out instead.\n",
            "  warnings.warn(msg, category=FutureWarning)\n"
          ]
        },
        {
          "output_type": "execute_result",
          "data": {
            "text/plain": [
              "['bask',\n",
              " 'basked',\n",
              " 'baskerville',\n",
              " 'baskervilles',\n",
              " 'basket',\n",
              " 'basketball',\n",
              " 'basketballs',\n",
              " 'baskets',\n",
              " 'basking',\n",
              " 'basmati',\n",
              " 'basquiat',\n",
              " 'basra',\n",
              " 'bass',\n",
              " 'bassam',\n",
              " 'bassett',\n",
              " 'bassinet',\n",
              " 'bassinets',\n",
              " 'bassist',\n",
              " 'bassists',\n",
              " 'bassline']"
            ]
          },
          "metadata": {},
          "execution_count": 34
        }
      ]
    },
    {
      "cell_type": "markdown",
      "source": [
        "####Grap Topics"
      ],
      "metadata": {
        "id": "6_L-ZA7BokNF"
      }
    },
    {
      "cell_type": "code",
      "source": [
        "len(LDA.components_)"
      ],
      "metadata": {
        "colab": {
          "base_uri": "https://localhost:8080/"
        },
        "id": "8LNzSCdtmeCQ",
        "outputId": "51be0f6d-c745-476c-efcf-11151198e98a"
      },
      "execution_count": 37,
      "outputs": [
        {
          "output_type": "execute_result",
          "data": {
            "text/plain": [
              "7"
            ]
          },
          "metadata": {},
          "execution_count": 37
        }
      ]
    },
    {
      "cell_type": "code",
      "source": [
        "LDA.components_.shape"
      ],
      "metadata": {
        "colab": {
          "base_uri": "https://localhost:8080/"
        },
        "id": "tJQXHo_8meAE",
        "outputId": "c6c91ff1-9961-409d-827a-80ff3ce61544"
      },
      "execution_count": 38,
      "outputs": [
        {
          "output_type": "execute_result",
          "data": {
            "text/plain": [
              "(7, 54777)"
            ]
          },
          "metadata": {},
          "execution_count": 38
        }
      ]
    },
    {
      "cell_type": "code",
      "source": [
        "LDA.components_[0]"
      ],
      "metadata": {
        "colab": {
          "base_uri": "https://localhost:8080/"
        },
        "id": "6Xp0FRYanBZL",
        "outputId": "f1742eb9-b301-4bf5-d870-822ee565edcc"
      },
      "execution_count": 39,
      "outputs": [
        {
          "output_type": "execute_result",
          "data": {
            "text/plain": [
              "array([2.89075182e+00, 2.58247675e+03, 1.42866015e-01, ...,\n",
              "       1.43087138e-01, 1.42859954e-01, 1.42859389e-01])"
            ]
          },
          "metadata": {},
          "execution_count": 39
        }
      ]
    },
    {
      "cell_type": "code",
      "source": [
        "single_topic = LDA.components_[0]"
      ],
      "metadata": {
        "id": "rlSqOrZVnDDL"
      },
      "execution_count": 40,
      "outputs": []
    },
    {
      "cell_type": "code",
      "source": [
        "single_topic.argsort()[-10:]"
      ],
      "metadata": {
        "colab": {
          "base_uri": "https://localhost:8080/"
        },
        "id": "vIYLItqFnm4i",
        "outputId": "defb6328-e50b-447f-c3cf-9e1b0b088dfb"
      },
      "execution_count": 47,
      "outputs": [
        {
          "output_type": "execute_result",
          "data": {
            "text/plain": [
              "array([32089, 46581, 54403, 33390, 42561,  8149, 36310, 36283, 22673,\n",
              "       42993])"
            ]
          },
          "metadata": {},
          "execution_count": 47
        }
      ]
    },
    {
      "cell_type": "code",
      "source": [
        "n=10\n",
        "top_words_id = single_topic.argsort()[-n:]\n",
        "top_words = [cv.get_feature_names()[i] for i in top_words_id]\n",
        "top_words"
      ],
      "metadata": {
        "colab": {
          "base_uri": "https://localhost:8080/"
        },
        "id": "Ez2-yz29nN-C",
        "outputId": "03483fec-f57c-449c-f6c3-8fc794fb49bc"
      },
      "execution_count": 59,
      "outputs": [
        {
          "output_type": "stream",
          "name": "stderr",
          "text": [
            "/usr/local/lib/python3.7/dist-packages/sklearn/utils/deprecation.py:87: FutureWarning: Function get_feature_names is deprecated; get_feature_names is deprecated in 1.0 and will be removed in 1.2. Please use get_feature_names_out instead.\n",
            "  warnings.warn(msg, category=FutureWarning)\n"
          ]
        },
        {
          "output_type": "execute_result",
          "data": {
            "text/plain": [
              "['money',\n",
              " 'state',\n",
              " 'year',\n",
              " 'new',\n",
              " 'said',\n",
              " 'care',\n",
              " 'percent',\n",
              " 'people',\n",
              " 'health',\n",
              " 'says']"
            ]
          },
          "metadata": {},
          "execution_count": 59
        }
      ]
    },
    {
      "cell_type": "code",
      "source": [
        "n=20\n",
        "top_words_id = single_topic.argsort()[-n:]\n",
        "top_words = [cv.get_feature_names()[i] for i in top_words_id]\n",
        "top_words"
      ],
      "metadata": {
        "colab": {
          "base_uri": "https://localhost:8080/"
        },
        "id": "xJQfzefHnQ4B",
        "outputId": "0b5db659-deff-49f0-d3ee-ea46714535d8"
      },
      "execution_count": 60,
      "outputs": [
        {
          "output_type": "stream",
          "name": "stderr",
          "text": [
            "/usr/local/lib/python3.7/dist-packages/sklearn/utils/deprecation.py:87: FutureWarning: Function get_feature_names is deprecated; get_feature_names is deprecated in 1.0 and will be removed in 1.2. Please use get_feature_names_out instead.\n",
            "  warnings.warn(msg, category=FutureWarning)\n"
          ]
        },
        {
          "output_type": "execute_result",
          "data": {
            "text/plain": [
              "['company',\n",
              " 'program',\n",
              " 'public',\n",
              " 'states',\n",
              " 'companies',\n",
              " 'school',\n",
              " 'years',\n",
              " 'federal',\n",
              " '000',\n",
              " 'million',\n",
              " 'money',\n",
              " 'state',\n",
              " 'year',\n",
              " 'new',\n",
              " 'said',\n",
              " 'care',\n",
              " 'percent',\n",
              " 'people',\n",
              " 'health',\n",
              " 'says']"
            ]
          },
          "metadata": {},
          "execution_count": 60
        }
      ]
    },
    {
      "cell_type": "code",
      "source": [
        "n=30\n",
        "top_words_id = single_topic.argsort()[-n:]\n",
        "top_words = [cv.get_feature_names()[i] for i in top_words_id]\n",
        "top_words"
      ],
      "metadata": {
        "colab": {
          "base_uri": "https://localhost:8080/"
        },
        "id": "h1-8kdQ5nfa-",
        "outputId": "eee5cd71-6ad5-4da8-85ae-238577566f9b"
      },
      "execution_count": 61,
      "outputs": [
        {
          "output_type": "stream",
          "name": "stderr",
          "text": [
            "/usr/local/lib/python3.7/dist-packages/sklearn/utils/deprecation.py:87: FutureWarning: Function get_feature_names is deprecated; get_feature_names is deprecated in 1.0 and will be removed in 1.2. Please use get_feature_names_out instead.\n",
            "  warnings.warn(msg, category=FutureWarning)\n"
          ]
        },
        {
          "output_type": "execute_result",
          "data": {
            "text/plain": [
              "['work',\n",
              " 'don',\n",
              " 'tax',\n",
              " 'pay',\n",
              " 'make',\n",
              " 'government',\n",
              " 'students',\n",
              " 'insurance',\n",
              " 'just',\n",
              " 'like',\n",
              " 'company',\n",
              " 'program',\n",
              " 'public',\n",
              " 'states',\n",
              " 'companies',\n",
              " 'school',\n",
              " 'years',\n",
              " 'federal',\n",
              " '000',\n",
              " 'million',\n",
              " 'money',\n",
              " 'state',\n",
              " 'year',\n",
              " 'new',\n",
              " 'said',\n",
              " 'care',\n",
              " 'percent',\n",
              " 'people',\n",
              " 'health',\n",
              " 'says']"
            ]
          },
          "metadata": {},
          "execution_count": 61
        }
      ]
    },
    {
      "cell_type": "markdown",
      "source": [
        "####Grap the highest probability words per Topics\n"
      ],
      "metadata": {
        "id": "KzI_lX1nomUl"
      }
    },
    {
      "cell_type": "code",
      "source": [
        "for index, topic in enumerate(LDA.components_):\n",
        "  n=20\n",
        "  print(index)\n",
        "  top_words_id = topic.argsort()[-n:]\n",
        "  top_words = [cv.get_feature_names()[i] for i in top_words_id]\n",
        "  print(top_words, end='\\n\\n')"
      ],
      "metadata": {
        "colab": {
          "base_uri": "https://localhost:8080/"
        },
        "id": "z54itRwnn7QO",
        "outputId": "423b912d-4bf8-42cc-c5f1-227b67ed67ea"
      },
      "execution_count": 65,
      "outputs": [
        {
          "output_type": "stream",
          "name": "stdout",
          "text": [
            "0\n"
          ]
        },
        {
          "output_type": "stream",
          "name": "stderr",
          "text": [
            "/usr/local/lib/python3.7/dist-packages/sklearn/utils/deprecation.py:87: FutureWarning: Function get_feature_names is deprecated; get_feature_names is deprecated in 1.0 and will be removed in 1.2. Please use get_feature_names_out instead.\n",
            "  warnings.warn(msg, category=FutureWarning)\n"
          ]
        },
        {
          "output_type": "stream",
          "name": "stdout",
          "text": [
            "['company', 'program', 'public', 'states', 'companies', 'school', 'years', 'federal', '000', 'million', 'money', 'state', 'year', 'new', 'said', 'care', 'percent', 'people', 'health', 'says']\n",
            "\n",
            "1\n",
            "['presidential', 'voters', 'country', 'vote', 'donald', 'party', 'people', 'political', 'republican', 'white', 'election', 'new', 'state', 'house', 'obama', 'campaign', 'clinton', 'president', 'said', 'trump']\n",
            "\n",
            "2\n",
            "['like', 'risk', 'blood', 'medical', 'human', 'said', 'virus', 'years', 'research', 'researchers', 'university', 'scientists', 'zika', 'patients', 'new', 'health', 'study', 'disease', 'people', 'says']\n",
            "\n",
            "3\n",
            "['say', 'school', 'make', 'want', 'lot', 've', 'things', 'going', 'life', 'women', 'way', 'don', 'time', 'really', 'know', 'think', 'just', 'people', 'like', 'says']\n",
            "\n",
            "4\n",
            "['small', 'land', 'country', 'make', '000', 'home', 'time', 'year', 'war', 'water', 'day', 'city', 'just', 'world', 'years', 'new', 'people', 'like', 'food', 'says']\n",
            "\n",
            "5\n",
            "['npr', 'game', 'love', 'best', 'songs', 'band', 'says', 'way', 'said', 'world', 'film', 'year', 'years', 'album', 'song', 'time', 'just', 'new', 'like', 'music']\n",
            "\n",
            "6\n",
            "['federal', 'say', 'government', 'according', 'department', 'reported', 'justice', 'rights', 'npr', 'city', 'reports', 'state', 'case', 'told', 'law', 'court', 'people', 'says', 'police', 'said']\n",
            "\n"
          ]
        }
      ]
    },
    {
      "cell_type": "code",
      "source": [
        ""
      ],
      "metadata": {
        "id": "EiQVyjBBpKQG"
      },
      "execution_count": null,
      "outputs": []
    }
  ]
}